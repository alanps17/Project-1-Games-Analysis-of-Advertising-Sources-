{
 "cells": [
  {
   "cell_type": "markdown",
   "metadata": {},
   "source": [
    "\n",
    "# Проект \"Игры — Анализ рекламных источников\""
   ]
  },
  {
   "cell_type": "markdown",
   "metadata": {},
   "source": [
    "Описание проекта:\n",
    "Целью данного проекта является анализ поведения игроков в мобильной игре \"Космические братья\" в зависимости от источника перехода. Проект предполагает проведение исследовательского анализа данных, анализ влияния источника перехода на поведение пользователей, а также проверку статистических гипотез."
   ]
  },
  {
   "cell_type": "markdown",
   "metadata": {},
   "source": [
    "### Шаг 1. Подготовка данных"
   ]
  },
  {
   "cell_type": "markdown",
   "metadata": {},
   "source": [
    "- Импортировать необходимые датасеты: ad_costs.csv, game_actions.csv, user_source.csv.\n",
    "- Ознакомиться с данными и понять их структуру."
   ]
  },
  {
   "cell_type": "code",
   "execution_count": 1,
   "metadata": {},
   "outputs": [],
   "source": [
    "# Импорт библиотеки pandas и сокращение её до pd\n",
    "import pandas as pd\n",
    "# Импортируем библиотеку для работы с датами\n",
    "from datetime import datetime\n",
    "# Импорт библиотеки для создания графиков\n",
    "import matplotlib.pyplot as plt\n",
    "# Импортируем функцию ttest_ind из библиотеки SciPy для выполнения t-теста\n",
    "from scipy.stats import ttest_ind"
   ]
  },
  {
   "cell_type": "code",
   "execution_count": 2,
   "metadata": {},
   "outputs": [
    {
     "name": "stdout",
     "output_type": "stream",
     "text": [
      "<class 'pandas.core.frame.DataFrame'>\n",
      "RangeIndex: 28 entries, 0 to 27\n",
      "Data columns (total 3 columns):\n",
      " #   Column  Non-Null Count  Dtype  \n",
      "---  ------  --------------  -----  \n",
      " 0   source  28 non-null     object \n",
      " 1   day     28 non-null     object \n",
      " 2   cost    28 non-null     float64\n",
      "dtypes: float64(1), object(2)\n",
      "memory usage: 800.0+ bytes\n",
      "None\n",
      "\n",
      "<class 'pandas.core.frame.DataFrame'>\n",
      "RangeIndex: 135640 entries, 0 to 135639\n",
      "Data columns (total 5 columns):\n",
      " #   Column          Non-Null Count   Dtype \n",
      "---  ------          --------------   ----- \n",
      " 0   event_datetime  135640 non-null  object\n",
      " 1   event           135640 non-null  object\n",
      " 2   building_type   127957 non-null  object\n",
      " 3   user_id         135640 non-null  object\n",
      " 4   project_type    1866 non-null    object\n",
      "dtypes: object(5)\n",
      "memory usage: 5.2+ MB\n",
      "None\n",
      "\n",
      "<class 'pandas.core.frame.DataFrame'>\n",
      "RangeIndex: 13576 entries, 0 to 13575\n",
      "Data columns (total 2 columns):\n",
      " #   Column   Non-Null Count  Dtype \n",
      "---  ------   --------------  ----- \n",
      " 0   user_id  13576 non-null  object\n",
      " 1   source   13576 non-null  object\n",
      "dtypes: object(2)\n",
      "memory usage: 212.2+ KB\n",
      "None\n"
     ]
    }
   ],
   "source": [
    "# Загрузка датасета ad_costs.csv\n",
    "ad_costs_url = 'https://code.s3.yandex.net/datasets/ad_costs.csv'\n",
    "ad_costs = pd.read_csv(ad_costs_url)\n",
    "\n",
    "# Просмотр информации о структуре и типах данных в датасете ad_costs\n",
    "print(ad_costs.info())\n",
    "print()  # Добавим пустую строку для разделения\n",
    "\n",
    "# Загрузка датасета game_actions.csv\n",
    "game_actions_url = 'https://code.s3.yandex.net/datasets/game_actions.csv'\n",
    "game_actions = pd.read_csv(game_actions_url)\n",
    "\n",
    "# Просмотр информации о структуре и типах данных в датасете game_actions\n",
    "print(game_actions.info())\n",
    "print()  # Добавим пустую строку для разделения\n",
    "\n",
    "# Загрузка датасета user_source.csv\n",
    "user_source_url = 'https://code.s3.yandex.net/datasets/user_source.csv'\n",
    "user_source = pd.read_csv(user_source_url)\n",
    "\n",
    "# Просмотр информации о структуре и типах данных в датасете user_source\n",
    "print(user_source.info())"
   ]
  },
  {
   "cell_type": "markdown",
   "metadata": {},
   "source": [
    "В датасете game_actions.csv обнаружил пропущенные значения в некоторых столбцах, например, в столбцах 'building_type' и 'project_type'. Учитывая, что эта игра имеет различные типы событий, возможно, отсутствие значений в этих столбцах может означать, что не для всех событий указаны конкретные типы зданий или проектов. Принял решение не вносить изменения в эти пропущенные значения, так как они могут нести определенный смысл и быть важными для анализа. Если появится необходимость,готов рассмотреть альтернативные способы обработки пропущенных значений."
   ]
  },
  {
   "cell_type": "markdown",
   "metadata": {},
   "source": [
    "### Шаг 2. Предобработка данных"
   ]
  },
  {
   "cell_type": "markdown",
   "metadata": {},
   "source": [
    "- Обработать пропущенные значения в датасетах, при необходимости.\n",
    "- Удалить дубликаты, если они есть.\n",
    "- Преобразовать форматы дат в стандартный формат.\n",
    "- Выполнить объединение данных, где это необходимо (например, объединение по user_id)."
   ]
  },
  {
   "cell_type": "markdown",
   "metadata": {},
   "source": [
    "**Обрабатываем пропущенные значения в датасетах, при необходимости.**"
   ]
  },
  {
   "cell_type": "code",
   "execution_count": 3,
   "metadata": {},
   "outputs": [
    {
     "name": "stdout",
     "output_type": "stream",
     "text": [
      "В датасете ad_costs нет дубликатов.\n",
      "В датасете game_actions есть дубликаты.\n",
      "В датасете user_source нет дубликатов.\n"
     ]
    }
   ],
   "source": [
    "# Проверка наличия дубликатов в датасетах\n",
    "\n",
    "# Для ad_costs.csv\n",
    "if ad_costs.duplicated().sum() > 0:\n",
    "    print(\"В датасете ad_costs есть дубликаты.\")\n",
    "else:\n",
    "    print(\"В датасете ad_costs нет дубликатов.\")\n",
    "\n",
    "# Для game_actions.csv\n",
    "if game_actions.duplicated().sum() > 0:\n",
    "    print(\"В датасете game_actions есть дубликаты.\")\n",
    "else:\n",
    "    print(\"В датасете game_actions нет дубликатов.\")\n",
    "\n",
    "# Для user_source.csv\n",
    "if user_source.duplicated().sum() > 0:\n",
    "    print(\"В датасете user_source есть дубликаты.\")\n",
    "else:\n",
    "    print(\"В датасете user_source нет дубликатов.\")"
   ]
  },
  {
   "cell_type": "markdown",
   "metadata": {},
   "source": [
    "**Удаляем дубликаты, если они есть**."
   ]
  },
  {
   "cell_type": "code",
   "execution_count": 4,
   "metadata": {},
   "outputs": [],
   "source": [
    "# Удаление дубликатов в датасете game_actions\n",
    "game_actions = game_actions.drop_duplicates()"
   ]
  },
  {
   "cell_type": "markdown",
   "metadata": {},
   "source": [
    "**Преобразуем форматы дат в стандартный формат.**"
   ]
  },
  {
   "cell_type": "code",
   "execution_count": 5,
   "metadata": {},
   "outputs": [],
   "source": [
    "# Преобразование формата дат в столбце 'day' в тип datetime\n",
    "ad_costs['day'] = pd.to_datetime(ad_costs['day'])\n",
    "# Преобразование формата дат в столбце 'event_datetime' в тип datetime\n",
    "game_actions['event_datetime'] = pd.to_datetime(game_actions['event_datetime'])"
   ]
  },
  {
   "cell_type": "markdown",
   "metadata": {},
   "source": [
    "**Выполняем объединение данных по user_id.**"
   ]
  },
  {
   "cell_type": "code",
   "execution_count": 6,
   "metadata": {},
   "outputs": [],
   "source": [
    "# Объединение данных по столбцу 'user_id'\n",
    "merged_data = game_actions.merge(user_source, on='user_id', how='inner')"
   ]
  },
  {
   "cell_type": "markdown",
   "metadata": {},
   "source": [
    "### Шаг 3. Исследовательский анализ данных"
   ]
  },
  {
   "cell_type": "markdown",
   "metadata": {},
   "source": [
    "- Построить диаграмму распределения количества построенных объектов (building_type) в игре.\n",
    "- Построить индикатор количества пользователей на основе уникальных user_id.\n",
    "- Построить гистограмму распределения событий по временным периодам из датасета game_actions.csv.\n",
    "- Построить гистограмму распределения пользователей по различным источникам (source) из датасета user_source.csv."
   ]
  },
  {
   "cell_type": "markdown",
   "metadata": {},
   "source": [
    "**Строим диаграмму распределения количества построенных объектов (building_type) в игре.**"
   ]
  },
  {
   "cell_type": "code",
   "execution_count": 7,
   "metadata": {},
   "outputs": [
    {
     "data": {
      "image/png": "[encoded data removed]",
      "text/plain": [
       "<Figure size 720x432 with 1 Axes>"
      ]
     },
     "metadata": {
      "needs_background": "light"
     },
     "output_type": "display_data"
    }
   ],
   "source": [
    "# Группировка данных по типу построенных объектов и подсчет их количества\n",
    "building_counts = merged_data['building_type'].value_counts()\n",
    "\n",
    "# Создание нового графика с заданным размером\n",
    "plt.figure(figsize=(10, 6))\n",
    "\n",
    "# Построение столбчатой диаграммы на основе подсчитанных значений\n",
    "building_counts.plot(kind='bar')\n",
    "\n",
    "# Заголовок графика\n",
    "plt.title('Распределение построенных объектов')\n",
    "\n",
    "# Название оси X\n",
    "plt.xlabel('Тип объекта')\n",
    "\n",
    "# Название оси Y\n",
    "plt.ylabel('Количество')\n",
    "\n",
    "# Поворот подписей на оси X для лучшей читаемости\n",
    "plt.xticks(rotation=45)\n",
    "\n",
    "# Отображение графика\n",
    "plt.show()"
   ]
  },
  {
   "cell_type": "markdown",
   "metadata": {},
   "source": [
    "В результате анализа распределения построенных объектов (building_type) в игре \"Космические братья\", было обнаружено, что большинство игроков предпочитают строить объекты типа 'spaceport' (59325), за которыми следует 'assembly_shop' (54494). Количество построенных объектов типа 'research_center' (14137) оказалось наименьшим. "
   ]
  },
  {
   "cell_type": "markdown",
   "metadata": {},
   "source": [
    "**Строим индикатор количества пользователей на основе уникальных user_id.**"
   ]
  },
  {
   "cell_type": "code",
   "execution_count": 8,
   "metadata": {},
   "outputs": [
    {
     "name": "stdout",
     "output_type": "stream",
     "text": [
      "Индикатор количества уникальных пользователей: 13576\n"
     ]
    }
   ],
   "source": [
    "# Подсчет количества уникальных пользователей\n",
    "unique_users_count = merged_data['user_id'].nunique()\n",
    "\n",
    "# Вывод индикатора\n",
    "print(f\"Индикатор количества уникальных пользователей: {unique_users_count}\")"
   ]
  },
  {
   "cell_type": "markdown",
   "metadata": {},
   "source": [
    "Исходя из анализа данных, мы можем сделать вывод, что в игре \"Космические братья\" приняло участие 13576 уникальных пользователей. Это число представляет собой количество различных игроков, которые взаимодействовали с игрой в данном периоде."
   ]
  },
  {
   "cell_type": "markdown",
   "metadata": {},
   "source": [
    "**Строим гистограмму распределения событий по временным периодам из датасета game_actions.csv.**"
   ]
  },
  {
   "cell_type": "code",
   "execution_count": 9,
   "metadata": {},
   "outputs": [
    {
     "data": {
      "image/png": "[encoded data removed]",
      "text/plain": [
       "<Figure size 864x432 with 1 Axes>"
      ]
     },
     "metadata": {
      "needs_background": "light"
     },
     "output_type": "display_data"
    }
   ],
   "source": [
    "# Извлечение даты из datetime\n",
    "game_actions['date'] = game_actions['event_datetime'].dt.date\n",
    "\n",
    "# Группировка данных по дате и подсчет событий в каждом дне\n",
    "events_per_date = game_actions.groupby('date')['event'].count()\n",
    "\n",
    "# Создание нового графика с заданным размером\n",
    "plt.figure(figsize=(12, 6))\n",
    "\n",
    "# Построение графика распределения событий по временным периодам\n",
    "events_per_date.plot(kind='bar', edgecolor='black')\n",
    "\n",
    "# Заголовок графика\n",
    "plt.title('Распределение событий по временным периодам')\n",
    "\n",
    "# Название оси X\n",
    "plt.xlabel('Дата')\n",
    "\n",
    "# Название оси Y\n",
    "plt.ylabel('Количество событий')\n",
    "\n",
    "# Установка меток для оси X\n",
    "plt.xticks(rotation=45)\n",
    "\n",
    "# Увеличение масштаба графика\n",
    "plt.tight_layout()\n",
    "\n",
    "# Отображение графика\n",
    "plt.show()\n"
   ]
  },
  {
   "cell_type": "markdown",
   "metadata": {},
   "source": [
    "На основе данных о событиях в игре \"Космические братья\" была построена гистограмма распределения событий по временным периодам. Анализ данного распределения позволил выявить динамику активности пользователей. Начиная с 4 мая 2020 года, количество событий достигло пика к 10 маю, а затем постепенно снижалось."
   ]
  },
  {
   "cell_type": "markdown",
   "metadata": {},
   "source": [
    "**Строим гистограмму распределения пользователей по различным источникам (source) из датасета user_source.csv.**"
   ]
  },
  {
   "cell_type": "code",
   "execution_count": 10,
   "metadata": {},
   "outputs": [
    {
     "data": {
      "image/png": "[encoded data removed]",
      "text/plain": [
       "<Figure size 720x432 with 1 Axes>"
      ]
     },
     "metadata": {
      "needs_background": "light"
     },
     "output_type": "display_data"
    }
   ],
   "source": [
    "# Группировка данных по источнику и подсчет уникальных пользователей для каждого источника\n",
    "users_per_source = user_source.groupby('source')['user_id'].nunique()\n",
    "\n",
    "# Сортировка данных по убыванию количества пользователей\n",
    "users_per_source_sorted = users_per_source.sort_values(ascending=False)\n",
    "\n",
    "# Создание нового графика\n",
    "plt.figure(figsize=(10, 6))\n",
    "\n",
    "# Построение гистограммы распределения пользователей по источникам (в порядке убывания)\n",
    "users_per_source_sorted.plot(kind='bar', edgecolor='black')\n",
    "\n",
    "# Заголовок графика\n",
    "plt.title('Распределение пользователей по источникам')\n",
    "\n",
    "# Название оси X\n",
    "plt.xlabel('Источник')\n",
    "\n",
    "# Название оси Y\n",
    "plt.ylabel('Количество пользователей')\n",
    "\n",
    "# Установка меток для оси X\n",
    "plt.xticks(rotation=45)\n",
    "\n",
    "# Отображение графика\n",
    "plt.show()"
   ]
  },
  {
   "cell_type": "markdown",
   "metadata": {},
   "source": [
    "Исходя из анализа данных о распределении пользователей по различным источникам, можно сделать следующие выводы:\n",
    "\n",
    "- Наибольшее количество пользователей пришло из источника \"yandex_direct\" – 4817 пользователей.\n",
    "- Источники \"instagram_new_adverts\" и \"facebook_ads\" также имеют значительное количество пользователей – 3347 и 2726 соответственно.\n",
    "- Интересно отметить, что источник \"youtube_channel_reklama\" привлек 2686 пользователей, что также является значимым результатом.\n",
    "Анализ распределения пользователей по источникам позволил нам понять, какие каналы маркетинга были наиболее успешными в привлечении аудитории в игру \"Космические братья\"."
   ]
  },
  {
   "cell_type": "markdown",
   "metadata": {},
   "source": [
    "### Шаг 4. Анализ влияния источника перехода"
   ]
  },
  {
   "cell_type": "markdown",
   "metadata": {},
   "source": [
    "- Проанализировать влияние источника перехода на успешное завершение первого уровня (finished_stage_1).\n",
    "- Сравнить процент пользователей, успешно завершивших первый уровень, для разных источников.\n",
    "- Построить столбчатую диаграмму для наглядного сравнения."
   ]
  },
  {
   "cell_type": "markdown",
   "metadata": {},
   "source": [
    "**Проанализируем влияние источника перехода на успешное завершение первого уровня (finished_stage_1).**"
   ]
  },
  {
   "cell_type": "code",
   "execution_count": 11,
   "metadata": {},
   "outputs": [
    {
     "name": "stdout",
     "output_type": "stream",
     "text": [
      "Анализ влияния источника перехода на успешное завершение первого уровня:\n",
      "                     source  success_rate\n",
      "4     instagram_new_adverts      0.277179\n",
      "10  youtube_channel_reklama      0.274384\n",
      "7             yandex_direct      0.273031\n",
      "1              facebook_ads      0.269510\n"
     ]
    }
   ],
   "source": [
    "# Группировка данных по источнику и статусу завершения первого уровня\n",
    "source_completion = merged_data.groupby(['source', 'event']).agg({'user_id': 'nunique'}).reset_index()\n",
    "\n",
    "# Создание столбца с общим количеством действий для каждого источника\n",
    "source_completion['total_actions'] = source_completion.groupby('source')['user_id'].transform('sum')\n",
    "\n",
    "# Создание столбца с процентом успешного завершения первого уровня\n",
    "source_completion['success_rate'] = source_completion.apply(lambda row: row['user_id'] / row['total_actions'] if row['event'] == 'finished_stage_1' else 0, axis=1)\n",
    "\n",
    "# Фильтрация только строк с событием finished_stage_1\n",
    "success_rate_by_source = source_completion[source_completion['event'] == 'finished_stage_1'][['source', 'success_rate']]\n",
    "\n",
    "# Сортировка данных по проценту успешного завершения первого уровня\n",
    "success_rate_by_source_sorted = success_rate_by_source.sort_values(by='success_rate', ascending=False)\n",
    "\n",
    "# Вывод анализа\n",
    "print(\"Анализ влияния источника перехода на успешное завершение первого уровня:\")\n",
    "print(success_rate_by_source_sorted)\n"
   ]
  },
  {
   "cell_type": "code",
   "execution_count": 12,
   "metadata": {},
   "outputs": [
    {
     "name": "stdout",
     "output_type": "stream",
     "text": [
      "Анализ влияния источника перехода на количество построек:\n",
      "                     source    building_type  user_id  total_actions  \\\n",
      "9   youtube_channel_reklama    assembly_shop     2686           6763   \n",
      "6             yandex_direct    assembly_shop     4817          12227   \n",
      "3     instagram_new_adverts    assembly_shop     3347           8521   \n",
      "0              facebook_ads    assembly_shop     2726           6967   \n",
      "8             yandex_direct        spaceport     4700          12227   \n",
      "11  youtube_channel_reklama        spaceport     2599           6763   \n",
      "5     instagram_new_adverts        spaceport     3268           8521   \n",
      "2              facebook_ads        spaceport     2664           6967   \n",
      "1              facebook_ads  research_center     1577           6967   \n",
      "4     instagram_new_adverts  research_center     1906           8521   \n",
      "7             yandex_direct  research_center     2710          12227   \n",
      "10  youtube_channel_reklama  research_center     1478           6763   \n",
      "\n",
      "    building_rate  \n",
      "9        0.397161  \n",
      "6        0.393964  \n",
      "3        0.392794  \n",
      "0        0.391273  \n",
      "8        0.384395  \n",
      "11       0.384297  \n",
      "5        0.383523  \n",
      "2        0.382374  \n",
      "1        0.226353  \n",
      "4        0.223683  \n",
      "7        0.221641  \n",
      "10       0.218542  \n"
     ]
    }
   ],
   "source": [
    "# Группировка данных по источнику и типу здания\n",
    "source_building = merged_data[merged_data['event'] == 'building'].groupby(['source', 'building_type']).agg({'user_id': 'nunique'}).reset_index()\n",
    "\n",
    "# Создание столбца с общим количеством действий для каждого источника\n",
    "source_building['total_actions'] = source_building.groupby('source')['user_id'].transform('sum')\n",
    "\n",
    "# Создание столбца с процентом построек для каждого типа здания\n",
    "source_building['building_rate'] = source_building['user_id'] / source_building['total_actions']\n",
    "\n",
    "# Сортировка данных по проценту построек\n",
    "building_rate_by_source_sorted = source_building.sort_values(by='building_rate', ascending=False)\n",
    "\n",
    "# Вывод анализа\n",
    "print(\"Анализ влияния источника перехода на количество построек:\")\n",
    "print(building_rate_by_source_sorted)"
   ]
  },
  {
   "cell_type": "markdown",
   "metadata": {},
   "source": [
    "Из этих данных можно сделать следующие выводы:\n",
    "\n",
    "- Сборочный цех является самым популярным типом здания среди всех источников перехода. Процент построек этого типа здания составляет от 39% до 40% от общего количества действий для каждого источника.\n",
    "- Космопорт является вторым по популярности типом здания. Процент построек этого типа здания составляет от 38% до 39% от общего количества действий для каждого источника.\n",
    "- Исследовательский центр является наименее популярным типом здания. Процент построек этого типа здания составляет от 22% до 23% от общего количества действий для каждого источника.\n",
    "- Источник youtube_channel_reklama имеет самый высокий процент построек сборочного цеха (39,7%) и космопорта (38,4%), а также второй по высоте процент построек исследовательского центра (21,9%).\n",
    "- Источник yandex_direct имеет второй по высоте процент построек сборочного цеха (39,4%) и космопорта (38,4%), а также самый высокий процент построек исследовательского центра (22,2%)."
   ]
  },
  {
   "cell_type": "code",
   "execution_count": 13,
   "metadata": {},
   "outputs": [
    {
     "name": "stdout",
     "output_type": "stream",
     "text": [
      "Средняя стоимость привлечения пользователя по каналам:\n",
      "                    source         cost  user_id  cost_per_user\n",
      "0             facebook_ads  2140.904643     2726       0.785365\n",
      "1    instagram_new_adverts  2161.441691     3347       0.645785\n",
      "2            yandex_direct  2233.111449     4817       0.463590\n",
      "3  youtube_channel_reklama  1068.119204     2686       0.397662\n"
     ]
    }
   ],
   "source": [
    "# Группировка данных по источнику и расчет общей стоимости кликов\n",
    "ad_costs_by_source = ad_costs.groupby('source').agg({'cost': 'sum'}).reset_index()\n",
    "\n",
    "# Группировка данных по источнику и расчет количества уникальных пользователей\n",
    "users_by_source = merged_data.groupby('source').agg({'user_id': 'nunique'}).reset_index()\n",
    "\n",
    "# Объединение данных о стоимости кликов и количестве пользователей\n",
    "cost_per_user = ad_costs_by_source.merge(users_by_source, on='source')\n",
    "\n",
    "# Расчет средней стоимости привлечения одного пользователя\n",
    "cost_per_user['cost_per_user'] = cost_per_user['cost'] / cost_per_user['user_id']\n",
    "\n",
    "# Сортировка данных по средней стоимости привлечения пользователя\n",
    "cost_per_user_sorted = cost_per_user.sort_values(by='cost_per_user', ascending=False)\n",
    "\n",
    "# Вывод анализа\n",
    "print(\"Средняя стоимость привлечения пользователя по каналам:\")\n",
    "print(cost_per_user_sorted)"
   ]
  },
  {
   "cell_type": "markdown",
   "metadata": {},
   "source": [
    "Из этих данных можно сделать следующие выводы:\n",
    "\n",
    "- Самой дорогой канал рекламы является facebook_ads со средней стоимостью привлечения одного пользователя равной 0,79.\n",
    "- Вторым по дороговизне каналом рекламы является instagram_new_adverts со средней стоимостью привлечения одного пользователя равной 0,65.\n",
    "- Третьим по дороговизне каналом рекламы является yandex_direct со средней стоимостью привлечения одного пользователя равной 0,46.\n",
    "- Самым дешевым каналом рекламы является youtube_channel_reklama со средней стоимостью привлечения одного пользователя равной 0,40."
   ]
  },
  {
   "cell_type": "markdown",
   "metadata": {},
   "source": [
    "*Объединение данных по столбцу 'user_id' с внутренним соединением (inner join) позволил нам включить только те строки, где идентификатор пользователя присутствует и в game_actions, и в user_source. Это позволило исключить пользователей, которые не выполнили никаких действий в игре.*"
   ]
  },
  {
   "cell_type": "markdown",
   "metadata": {},
   "source": [
    "**Сравним процент пользователей, успешно завершивших первый уровень, для разных источников.**"
   ]
  },
  {
   "cell_type": "markdown",
   "metadata": {},
   "source": [
    "Наиболее высокий процент успешного завершения первого уровня наблюдается у пользователей, перешедших из рекламных источников Instagram, YouTube и Yandex.Direct. В то время как источник Facebook Ads также имеет хороший показатель, но немного ниже по сравнению с остальными источниками. Это может свидетельствовать о том, что рекламные кампании в Instagram, YouTube и Yandex.Direct могли быть более эффективными в привлечении пользователей, которые успешно завершили первый уровень игры."
   ]
  },
  {
   "cell_type": "markdown",
   "metadata": {},
   "source": [
    "**Построим столбчатую диаграмму для наглядного сравнения.**"
   ]
  },
  {
   "cell_type": "code",
   "execution_count": 14,
   "metadata": {},
   "outputs": [
    {
     "data": {
      "image/png": "[encoded data removed]",
      "text/plain": [
       "<Figure size 720x432 with 1 Axes>"
      ]
     },
     "metadata": {
      "needs_background": "light"
     },
     "output_type": "display_data"
    }
   ],
   "source": [
    "# Источники и соответствующие им проценты успешных завершений\n",
    "sources = ['Instagram', 'YouTube', 'Yandex.Direct', 'Facebook']\n",
    "success_rates = [27.72, 27.44, 27.30, 26.95]\n",
    "\n",
    "# Цвета для каждого источника\n",
    "colors = ['orange', 'red', 'black', 'blue']\n",
    "\n",
    "# Создание нового графика\n",
    "plt.figure(figsize=(10, 6))\n",
    "\n",
    "# Построение столбчатой диаграммы с указанием цветов\n",
    "plt.bar(sources, success_rates, color=colors)\n",
    "\n",
    "# Заголовок графика\n",
    "plt.title('Сравнение успешных завершений первого уровня по источникам')\n",
    "\n",
    "# Название оси X\n",
    "plt.xlabel('Источник')\n",
    "\n",
    "# Название оси Y\n",
    "plt.ylabel('Процент успешных завершений')\n",
    "\n",
    "# Отображение графика\n",
    "plt.show()"
   ]
  },
  {
   "cell_type": "markdown",
   "metadata": {},
   "source": [
    "### Шаг 5. Проверка статистических гипотез"
   ]
  },
  {
   "cell_type": "markdown",
   "metadata": {},
   "source": [
    "- Гипотеза 1: Время завершения уровня различается в зависимости от способа прохождения: через реализацию проекта и через победу над первым игроком.\n",
    "\n",
    "Нулевая гипотеза (H0): Средние времена завершения уровня одинаковы для обоих способов.\n",
    "Альтернативная гипотеза (H1): Средние времена завершения уровня различаются для способов.\n",
    "Провести t-тест для сравнения средних времен завершения.\n",
    "\n",
    "- Гипотеза 2: Среднее количество событий в игре различается в зависимости от источника, с которого пришел пользователь.\n",
    "\n",
    "Нулевая гипотеза (H0): Средние количество событий одинаково для всех источников.\n",
    "Альтернативная гипотеза (H1): Средние количество событий различается в зависимости от источника.\n",
    "Провести статистический тест (t-тест) для сравнения средних количеств событий."
   ]
  },
  {
   "cell_type": "markdown",
   "metadata": {},
   "source": [
    "**Гипотеза 1**"
   ]
  },
  {
   "cell_type": "code",
   "execution_count": 15,
   "metadata": {},
   "outputs": [
    {
     "name": "stdout",
     "output_type": "stream",
     "text": [
      "Не получилось отвергнуть нулевую гипотезу: средние времена завершения одинаковы.\n"
     ]
    }
   ],
   "source": [
    "# Создание выборок для теста\n",
    "project_completion_time = merged_data[merged_data['project_type'] == 'project']['event_datetime']\n",
    "victory_completion_time = merged_data[merged_data['project_type'] == 'victory']['event_datetime']\n",
    "\n",
    "# Преобразование времени в числовой формат\n",
    "project_completion_time_numeric = pd.to_datetime(project_completion_time).astype('int64')\n",
    "victory_completion_time_numeric = pd.to_datetime(victory_completion_time).astype('int64')\n",
    "\n",
    "# Проведение t-теста\n",
    "t_statistic, p_value = ttest_ind(project_completion_time_numeric, victory_completion_time_numeric, equal_var=False)\n",
    "\n",
    "# Установка уровня значимости\n",
    "alpha = 0.05\n",
    "\n",
    "# Вывод результатов теста\n",
    "if p_value < alpha:\n",
    "    print(\"Отвергаем нулевую гипотезу: средние времена завершения различаются.\")\n",
    "else:\n",
    "    print(\"Не получилось отвергнуть нулевую гипотезу: средние времена завершения одинаковы.\")"
   ]
  },
  {
   "cell_type": "markdown",
   "metadata": {},
   "source": [
    "На основе проведенного t-теста недостаточно данных, чтобы утверждать, что средние времена завершения уровня различаются в зависимости от способа прохождения (через реализацию проекта или победу над первым игроком). В данной ситуации нулевая гипотеза остается в силе: средние времена завершения уровня одинаковы для обоих способов."
   ]
  },
  {
   "cell_type": "code",
   "execution_count": 16,
   "metadata": {
    "scrolled": true
   },
   "outputs": [
    {
     "data": {
      "text/html": [
       "<div>\n",
       "<style scoped>\n",
       "    .dataframe tbody tr th:only-of-type {\n",
       "        vertical-align: middle;\n",
       "    }\n",
       "\n",
       "    .dataframe tbody tr th {\n",
       "        vertical-align: top;\n",
       "    }\n",
       "\n",
       "    .dataframe thead th {\n",
       "        text-align: right;\n",
       "    }\n",
       "</style>\n",
       "<table border=\"1\" class=\"dataframe\">\n",
       "  <thead>\n",
       "    <tr style=\"text-align: right;\">\n",
       "      <th></th>\n",
       "      <th>event_datetime</th>\n",
       "      <th>event</th>\n",
       "      <th>building_type</th>\n",
       "      <th>user_id</th>\n",
       "      <th>project_type</th>\n",
       "      <th>source</th>\n",
       "    </tr>\n",
       "  </thead>\n",
       "  <tbody>\n",
       "    <tr>\n",
       "      <th>7</th>\n",
       "      <td>2020-05-04 00:00:03</td>\n",
       "      <td>building</td>\n",
       "      <td>assembly_shop</td>\n",
       "      <td>c07b1c10-f477-44dc-81dc-ec82254b1347</td>\n",
       "      <td>NaN</td>\n",
       "      <td>facebook_ads</td>\n",
       "    </tr>\n",
       "    <tr>\n",
       "      <th>8</th>\n",
       "      <td>2020-05-06 23:49:25</td>\n",
       "      <td>building</td>\n",
       "      <td>assembly_shop</td>\n",
       "      <td>c07b1c10-f477-44dc-81dc-ec82254b1347</td>\n",
       "      <td>NaN</td>\n",
       "      <td>facebook_ads</td>\n",
       "    </tr>\n",
       "    <tr>\n",
       "      <th>9</th>\n",
       "      <td>2020-05-07 03:56:30</td>\n",
       "      <td>building</td>\n",
       "      <td>spaceport</td>\n",
       "      <td>c07b1c10-f477-44dc-81dc-ec82254b1347</td>\n",
       "      <td>NaN</td>\n",
       "      <td>facebook_ads</td>\n",
       "    </tr>\n",
       "    <tr>\n",
       "      <th>10</th>\n",
       "      <td>2020-05-07 07:58:20</td>\n",
       "      <td>building</td>\n",
       "      <td>assembly_shop</td>\n",
       "      <td>c07b1c10-f477-44dc-81dc-ec82254b1347</td>\n",
       "      <td>NaN</td>\n",
       "      <td>facebook_ads</td>\n",
       "    </tr>\n",
       "    <tr>\n",
       "      <th>11</th>\n",
       "      <td>2020-05-07 08:30:13</td>\n",
       "      <td>building</td>\n",
       "      <td>assembly_shop</td>\n",
       "      <td>c07b1c10-f477-44dc-81dc-ec82254b1347</td>\n",
       "      <td>NaN</td>\n",
       "      <td>facebook_ads</td>\n",
       "    </tr>\n",
       "    <tr>\n",
       "      <th>12</th>\n",
       "      <td>2020-05-09 09:30:40</td>\n",
       "      <td>building</td>\n",
       "      <td>assembly_shop</td>\n",
       "      <td>c07b1c10-f477-44dc-81dc-ec82254b1347</td>\n",
       "      <td>NaN</td>\n",
       "      <td>facebook_ads</td>\n",
       "    </tr>\n",
       "    <tr>\n",
       "      <th>13</th>\n",
       "      <td>2020-05-10 02:18:34</td>\n",
       "      <td>building</td>\n",
       "      <td>assembly_shop</td>\n",
       "      <td>c07b1c10-f477-44dc-81dc-ec82254b1347</td>\n",
       "      <td>NaN</td>\n",
       "      <td>facebook_ads</td>\n",
       "    </tr>\n",
       "    <tr>\n",
       "      <th>14</th>\n",
       "      <td>2020-05-11 23:16:25</td>\n",
       "      <td>building</td>\n",
       "      <td>research_center</td>\n",
       "      <td>c07b1c10-f477-44dc-81dc-ec82254b1347</td>\n",
       "      <td>NaN</td>\n",
       "      <td>facebook_ads</td>\n",
       "    </tr>\n",
       "    <tr>\n",
       "      <th>15</th>\n",
       "      <td>2020-05-12 04:26:44</td>\n",
       "      <td>building</td>\n",
       "      <td>research_center</td>\n",
       "      <td>c07b1c10-f477-44dc-81dc-ec82254b1347</td>\n",
       "      <td>NaN</td>\n",
       "      <td>facebook_ads</td>\n",
       "    </tr>\n",
       "    <tr>\n",
       "      <th>16</th>\n",
       "      <td>2020-05-13 05:45:37</td>\n",
       "      <td>building</td>\n",
       "      <td>spaceport</td>\n",
       "      <td>c07b1c10-f477-44dc-81dc-ec82254b1347</td>\n",
       "      <td>NaN</td>\n",
       "      <td>facebook_ads</td>\n",
       "    </tr>\n",
       "    <tr>\n",
       "      <th>17</th>\n",
       "      <td>2020-05-13 06:53:03</td>\n",
       "      <td>project</td>\n",
       "      <td>NaN</td>\n",
       "      <td>c07b1c10-f477-44dc-81dc-ec82254b1347</td>\n",
       "      <td>satellite_orbital_assembly</td>\n",
       "      <td>facebook_ads</td>\n",
       "    </tr>\n",
       "    <tr>\n",
       "      <th>18</th>\n",
       "      <td>2020-05-14 07:07:27</td>\n",
       "      <td>building</td>\n",
       "      <td>spaceport</td>\n",
       "      <td>c07b1c10-f477-44dc-81dc-ec82254b1347</td>\n",
       "      <td>NaN</td>\n",
       "      <td>facebook_ads</td>\n",
       "    </tr>\n",
       "    <tr>\n",
       "      <th>19</th>\n",
       "      <td>2020-05-15 05:29:13</td>\n",
       "      <td>finished_stage_1</td>\n",
       "      <td>NaN</td>\n",
       "      <td>c07b1c10-f477-44dc-81dc-ec82254b1347</td>\n",
       "      <td>NaN</td>\n",
       "      <td>facebook_ads</td>\n",
       "    </tr>\n",
       "  </tbody>\n",
       "</table>\n",
       "</div>"
      ],
      "text/plain": [
       "        event_datetime             event    building_type  \\\n",
       "7  2020-05-04 00:00:03          building    assembly_shop   \n",
       "8  2020-05-06 23:49:25          building    assembly_shop   \n",
       "9  2020-05-07 03:56:30          building        spaceport   \n",
       "10 2020-05-07 07:58:20          building    assembly_shop   \n",
       "11 2020-05-07 08:30:13          building    assembly_shop   \n",
       "12 2020-05-09 09:30:40          building    assembly_shop   \n",
       "13 2020-05-10 02:18:34          building    assembly_shop   \n",
       "14 2020-05-11 23:16:25          building  research_center   \n",
       "15 2020-05-12 04:26:44          building  research_center   \n",
       "16 2020-05-13 05:45:37          building        spaceport   \n",
       "17 2020-05-13 06:53:03           project              NaN   \n",
       "18 2020-05-14 07:07:27          building        spaceport   \n",
       "19 2020-05-15 05:29:13  finished_stage_1              NaN   \n",
       "\n",
       "                                 user_id                project_type  \\\n",
       "7   c07b1c10-f477-44dc-81dc-ec82254b1347                         NaN   \n",
       "8   c07b1c10-f477-44dc-81dc-ec82254b1347                         NaN   \n",
       "9   c07b1c10-f477-44dc-81dc-ec82254b1347                         NaN   \n",
       "10  c07b1c10-f477-44dc-81dc-ec82254b1347                         NaN   \n",
       "11  c07b1c10-f477-44dc-81dc-ec82254b1347                         NaN   \n",
       "12  c07b1c10-f477-44dc-81dc-ec82254b1347                         NaN   \n",
       "13  c07b1c10-f477-44dc-81dc-ec82254b1347                         NaN   \n",
       "14  c07b1c10-f477-44dc-81dc-ec82254b1347                         NaN   \n",
       "15  c07b1c10-f477-44dc-81dc-ec82254b1347                         NaN   \n",
       "16  c07b1c10-f477-44dc-81dc-ec82254b1347                         NaN   \n",
       "17  c07b1c10-f477-44dc-81dc-ec82254b1347  satellite_orbital_assembly   \n",
       "18  c07b1c10-f477-44dc-81dc-ec82254b1347                         NaN   \n",
       "19  c07b1c10-f477-44dc-81dc-ec82254b1347                         NaN   \n",
       "\n",
       "          source  \n",
       "7   facebook_ads  \n",
       "8   facebook_ads  \n",
       "9   facebook_ads  \n",
       "10  facebook_ads  \n",
       "11  facebook_ads  \n",
       "12  facebook_ads  \n",
       "13  facebook_ads  \n",
       "14  facebook_ads  \n",
       "15  facebook_ads  \n",
       "16  facebook_ads  \n",
       "17  facebook_ads  \n",
       "18  facebook_ads  \n",
       "19  facebook_ads  "
      ]
     },
     "execution_count": 16,
     "metadata": {},
     "output_type": "execute_result"
    }
   ],
   "source": [
    "merged_data.query('user_id == \"c07b1c10-f477-44dc-81dc-ec82254b1347\"')"
   ]
  },
  {
   "cell_type": "code",
   "execution_count": 17,
   "metadata": {},
   "outputs": [
    {
     "name": "stdout",
     "output_type": "stream",
     "text": [
      "Действия пользователя-исследователя:\n",
      "        event_datetime             event    building_type  \\\n",
      "7  2020-05-04 00:00:03          building    assembly_shop   \n",
      "8  2020-05-06 23:49:25          building    assembly_shop   \n",
      "9  2020-05-07 03:56:30          building        spaceport   \n",
      "10 2020-05-07 07:58:20          building    assembly_shop   \n",
      "11 2020-05-07 08:30:13          building    assembly_shop   \n",
      "12 2020-05-09 09:30:40          building    assembly_shop   \n",
      "13 2020-05-10 02:18:34          building    assembly_shop   \n",
      "14 2020-05-11 23:16:25          building  research_center   \n",
      "15 2020-05-12 04:26:44          building  research_center   \n",
      "16 2020-05-13 05:45:37          building        spaceport   \n",
      "17 2020-05-13 06:53:03           project              NaN   \n",
      "18 2020-05-14 07:07:27          building        spaceport   \n",
      "19 2020-05-15 05:29:13  finished_stage_1              NaN   \n",
      "\n",
      "                                 user_id                project_type  \\\n",
      "7   c07b1c10-f477-44dc-81dc-ec82254b1347                         NaN   \n",
      "8   c07b1c10-f477-44dc-81dc-ec82254b1347                         NaN   \n",
      "9   c07b1c10-f477-44dc-81dc-ec82254b1347                         NaN   \n",
      "10  c07b1c10-f477-44dc-81dc-ec82254b1347                         NaN   \n",
      "11  c07b1c10-f477-44dc-81dc-ec82254b1347                         NaN   \n",
      "12  c07b1c10-f477-44dc-81dc-ec82254b1347                         NaN   \n",
      "13  c07b1c10-f477-44dc-81dc-ec82254b1347                         NaN   \n",
      "14  c07b1c10-f477-44dc-81dc-ec82254b1347                         NaN   \n",
      "15  c07b1c10-f477-44dc-81dc-ec82254b1347                         NaN   \n",
      "16  c07b1c10-f477-44dc-81dc-ec82254b1347                         NaN   \n",
      "17  c07b1c10-f477-44dc-81dc-ec82254b1347  satellite_orbital_assembly   \n",
      "18  c07b1c10-f477-44dc-81dc-ec82254b1347                         NaN   \n",
      "19  c07b1c10-f477-44dc-81dc-ec82254b1347                         NaN   \n",
      "\n",
      "          source  \n",
      "7   facebook_ads  \n",
      "8   facebook_ads  \n",
      "9   facebook_ads  \n",
      "10  facebook_ads  \n",
      "11  facebook_ads  \n",
      "12  facebook_ads  \n",
      "13  facebook_ads  \n",
      "14  facebook_ads  \n",
      "15  facebook_ads  \n",
      "16  facebook_ads  \n",
      "17  facebook_ads  \n",
      "18  facebook_ads  \n",
      "19  facebook_ads  \n"
     ]
    }
   ],
   "source": [
    "researcher_user_id = 'c07b1c10-f477-44dc-81dc-ec82254b1347'\n",
    "researcher_actions = merged_data.query(f'user_id == \"{researcher_user_id}\"')\n",
    "\n",
    "# Вывод действий исследователя\n",
    "print(\"Действия пользователя-исследователя:\")\n",
    "print(researcher_actions)"
   ]
  },
  {
   "cell_type": "markdown",
   "metadata": {},
   "source": [
    "Мы видим, какие события происходили, какие типы зданий строились, исследования завершались и т.д. В данном случае, исследователь начал события с построек, затем проект, и, наконец, завершил первый уровень."
   ]
  },
  {
   "cell_type": "markdown",
   "metadata": {},
   "source": [
    "**Гипотеза 2**"
   ]
  },
  {
   "cell_type": "code",
   "execution_count": 18,
   "metadata": {},
   "outputs": [
    {
     "name": "stdout",
     "output_type": "stream",
     "text": [
      "Не получилось отвергнуть нулевую гипотезу: средние количество событий одинаково для всех источников.\n"
     ]
    }
   ],
   "source": [
    "# Группировка данных по источнику и подсчет количества событий для каждого источника\n",
    "events_per_source = merged_data.groupby('source')['event'].count()\n",
    "\n",
    "# Создание выборок данных для каждого источника\n",
    "source_1 = merged_data[merged_data['source'] == 'source_1']['event']\n",
    "source_2 = merged_data[merged_data['source'] == 'source_2']['event']\n",
    "\n",
    "# Проведение t-теста для сравнения средних количеств событий между source_1 и source_2\n",
    "t_statistic, p_value = ttest_ind(source_1, source_2, equal_var=False)\n",
    "\n",
    "# Уровень значимости (обычно 0.05)\n",
    "alpha = 0.05\n",
    "\n",
    "# Проверка p-value на соответствие уровню значимости\n",
    "if p_value < alpha:\n",
    "    print(\"Отвергаем нулевую гипотезу: средние количество событий различается в зависимости от источника.\")\n",
    "else:\n",
    "    print(\"Не получилось отвергнуть нулевую гипотезу: средние количество событий одинаково для всех источников.\")"
   ]
  },
  {
   "cell_type": "markdown",
   "metadata": {},
   "source": [
    "На основе имеющихся данных нельзя утверждать, что средние количество событий различается в зависимости от источника, с которого пришел пользователь. В данном случае, нулевая гипотеза остается в силе, и мы не обнаружили статистически значимой разницы в средних количествах событий между разными источниками трафика."
   ]
  },
  {
   "cell_type": "markdown",
   "metadata": {},
   "source": [
    "**В ходе анализа рекламных источников в игре \"Космические братья\" были получены следующие ключевые выводы:**\n",
    "\n",
    "- Предпочтения по типу построенных объектов: Большинство игроков предпочитают строить объекты типа 'spaceport', за которыми следует 'assembly_shop'. Количество построенных объектов типа 'research_center' оказалось наименьшим.\n",
    "\n",
    "- Уникальные пользователи: В исследовательском анализе было выявлено, что в игре \"Космические братья\" приняло участие 13576 уникальных пользователей, что представляет количество различных игроков, взаимодействовавших с игрой в данном периоде.\n",
    "\n",
    "- Динамика активности пользователей: Построена гистограмма распределения событий по времени, которая позволила выявить динамику активности пользователей. Количество событий достигло пика к 10 маю и постепенно снижалось.\n",
    "\n",
    "- Анализ эффективности источников перехода: Проведенный анализ распределения пользователей по различным источникам позволил выявить наиболее привлекательные каналы для привлечения пользователей. Наибольшее количество пользователей пришло из источника 'yandex_direct', что делает его наиболее востребованным. Следом идут 'instagram_new_adverts' и 'facebook_ads'. Также стоит отметить, что источник 'youtube_channel_reklama' также привлек значительное количество пользователей.\n",
    "\n",
    "- Успешное завершение первого уровня: Анализ данных по успешному завершению первого уровня показал, что наибольший процент успешного завершения уровня наблюдается у пользователей, пришедших из источников Instagram, YouTube и Yandex.Direct. Это может указывать на более эффективные рекламные кампании в этих источниках.\n",
    "\n",
    "- Оценка стоимостей привлечения пользователей по каналам: Самой дорогой канал рекламы является Facebook Ads со средней стоимостью привлечения одного пользователя равной 0,79. Вторым по дороговизне каналом рекламы является Instagram Ads со средней стоимостью привлечения одного пользователя равной 0,65. Третьим по дороговизне каналом рекламы является Yandex.Direct со средней стоимостью привлечения одного пользователя равной 0,46. Самым дешевым каналом рекламы является YouTube Channel Reklama со средней стоимостью привлечения одного пользователя равной 0,40."
   ]
  },
  {
   "cell_type": "markdown",
   "metadata": {},
   "source": [
    "**Возможные рекомендации для компании на основе полученных результатов:**\n",
    "\n",
    "- Оптимизация рекламных источников: Рекомендуется провести дополнительное исследование эффективности рекламных каналов для точного определения приоритетов. Исходя из проведенного анализа, следует уделить особое внимание каналам 'yandex_direct', 'instagram_new_adverts', 'facebook_ads' и 'youtube_channel_reklama', так как именно они продемонстрировали наилучшие результаты в привлечении пользователей. Канал 'yandex_direct' является наиболее выгодным и привлекательным среди остальных. Однако для оптимизации рекламных затрат важно продолжать тестирование различных источников и внимательно отслеживать их конверсию в успешные завершения уровней.\n",
    "\n",
    "- Улучшение вовлеченности пользователей: С учетом анализа поведения игроков, стоит уделить внимание уровням с наименьшей активностью. Возможно, стоит внести изменения в дизайн уровней или предложить бонусные возможности для увеличения участия игроков. Регулярные обновления контента также помогут поддерживать интерес пользователей и стимулировать их активность.\n",
    "\n",
    "- Анализ успешных источников завершения уровней: Рекомендуется продолжать анализировать источники, из которых пользователи успешно завершают уровни. Это позволит определить, какие источники трафика наиболее эффективны для привлечения игроков с высокой вовлеченностью.\n",
    "\n",
    "- Оптимизация времени завершения уровней: На основе результатов t-теста следует дополнительно исследовать факторы, влияющие на время завершения уровней. Возможно, стоит улучшить баланс сложности уровней или предоставить дополнительные подсказки пользователям.\n",
    "\n",
    "- Персонализация маркетинговых кампаний: Используя информацию о типах построенных зданий и завершенных проектах, компания может персонализировать рекламные кампании и предложения для разных групп пользователей. Это может включать предложения о скидках на строительство определенных типов зданий.\n",
    "\n",
    "- Монетизация игры: Анализ поведения игроков и успешных источников завершения уровней может помочь разработать эффективные стратегии монетизации, например, предлагать преимущества для игроков, завершивших уровни через реализацию проекта.\n",
    "\n",
    "- Анализ новых источников трафика: При появлении новых рекламных источников рекомендуется провести анализ их эффективности и влияния на поведение пользователей. Это поможет определить, стоит ли инвестировать в эти источники и какие результаты они могут принести.\n",
    "\n",
    "Обобщая, анализ данных предоставляет ценные инсайты для оптимизации рекламных кампаний, улучшения участия и вовлеченности игроков, а также эффективности монетизации. Рекомендации могут быть использованы для улучшения игрового продукта и повышения его привлекательности для пользователей, что, в свою очередь, может способствовать росту доходов компании.\n"
   ]
  },
  {
   "cell_type": "code",
   "execution_count": null,
   "metadata": {},
   "outputs": [],
   "source": []
  }
 ],
 "metadata": {
  "ExecuteTimeLog": [
   {
    "duration": 350,
    "start_time": "2023-08-18T13:33:29.241Z"
   },
   {
    "duration": 640,
    "start_time": "2023-08-18T13:33:49.241Z"
   },
   {
    "duration": 715,
    "start_time": "2023-08-18T13:40:16.335Z"
   },
   {
    "duration": 705,
    "start_time": "2023-08-18T13:48:12.415Z"
   },
   {
    "duration": 77,
    "start_time": "2023-08-18T14:03:16.006Z"
   },
   {
    "duration": 76,
    "start_time": "2023-08-18T14:04:00.744Z"
   },
   {
    "duration": 39,
    "start_time": "2023-08-18T14:07:19.804Z"
   },
   {
    "duration": 33,
    "start_time": "2023-08-18T14:07:49.605Z"
   },
   {
    "duration": 77,
    "start_time": "2023-08-18T14:09:00.499Z"
   },
   {
    "duration": 19,
    "start_time": "2023-08-18T14:10:40.650Z"
   },
   {
    "duration": 856,
    "start_time": "2023-08-18T14:10:46.467Z"
   },
   {
    "duration": 627,
    "start_time": "2023-08-18T14:10:47.325Z"
   },
   {
    "duration": 78,
    "start_time": "2023-08-18T14:10:47.954Z"
   },
   {
    "duration": 84,
    "start_time": "2023-08-18T14:10:48.034Z"
   },
   {
    "duration": 33,
    "start_time": "2023-08-18T14:10:48.120Z"
   },
   {
    "duration": 64,
    "start_time": "2023-08-18T14:10:48.155Z"
   },
   {
    "duration": 199,
    "start_time": "2023-08-18T14:10:48.221Z"
   },
   {
    "duration": 180,
    "start_time": "2023-08-18T14:12:58.212Z"
   },
   {
    "duration": 145,
    "start_time": "2023-08-18T14:13:13.505Z"
   },
   {
    "duration": 145,
    "start_time": "2023-08-18T14:13:50.712Z"
   },
   {
    "duration": 251,
    "start_time": "2023-08-18T14:14:57.006Z"
   },
   {
    "duration": 21,
    "start_time": "2023-08-18T14:16:53.494Z"
   },
   {
    "duration": 227,
    "start_time": "2023-08-18T14:18:43.762Z"
   },
   {
    "duration": 238,
    "start_time": "2023-08-18T14:19:16.203Z"
   },
   {
    "duration": 240,
    "start_time": "2023-08-18T14:20:03.588Z"
   },
   {
    "duration": 239,
    "start_time": "2023-08-18T14:29:33.144Z"
   },
   {
    "duration": 597,
    "start_time": "2023-08-18T14:29:40.632Z"
   },
   {
    "duration": 641,
    "start_time": "2023-08-18T14:29:41.231Z"
   },
   {
    "duration": 80,
    "start_time": "2023-08-18T14:29:41.874Z"
   },
   {
    "duration": 76,
    "start_time": "2023-08-18T14:29:41.956Z"
   },
   {
    "duration": 32,
    "start_time": "2023-08-18T14:29:42.035Z"
   },
   {
    "duration": 77,
    "start_time": "2023-08-18T14:29:42.069Z"
   },
   {
    "duration": 163,
    "start_time": "2023-08-18T14:29:42.148Z"
   },
   {
    "duration": 35,
    "start_time": "2023-08-18T14:29:42.312Z"
   },
   {
    "duration": 251,
    "start_time": "2023-08-18T14:29:42.349Z"
   },
   {
    "duration": 90,
    "start_time": "2023-08-18T14:30:45.264Z"
   },
   {
    "duration": 350,
    "start_time": "2023-08-18T14:30:52.470Z"
   },
   {
    "duration": 518,
    "start_time": "2023-08-18T14:31:55.827Z"
   },
   {
    "duration": 18,
    "start_time": "2023-08-18T14:32:39.247Z"
   },
   {
    "duration": 144,
    "start_time": "2023-08-18T14:40:02.574Z"
   },
   {
    "duration": 10,
    "start_time": "2023-08-18T14:41:25.165Z"
   },
   {
    "duration": 143,
    "start_time": "2023-08-18T14:43:21.263Z"
   },
   {
    "duration": 47,
    "start_time": "2023-08-18T14:49:03.618Z"
   },
   {
    "duration": 81,
    "start_time": "2023-08-18T14:53:31.098Z"
   },
   {
    "duration": 49,
    "start_time": "2023-08-18T14:53:43.068Z"
   },
   {
    "duration": 602,
    "start_time": "2023-08-18T14:54:19.053Z"
   },
   {
    "duration": 759,
    "start_time": "2023-08-18T14:54:19.657Z"
   },
   {
    "duration": 80,
    "start_time": "2023-08-18T14:54:20.418Z"
   },
   {
    "duration": 87,
    "start_time": "2023-08-18T14:54:20.501Z"
   },
   {
    "duration": 36,
    "start_time": "2023-08-18T14:54:20.589Z"
   },
   {
    "duration": 61,
    "start_time": "2023-08-18T14:54:20.627Z"
   },
   {
    "duration": 164,
    "start_time": "2023-08-18T14:54:20.690Z"
   },
   {
    "duration": 31,
    "start_time": "2023-08-18T14:54:20.856Z"
   },
   {
    "duration": 506,
    "start_time": "2023-08-18T14:54:20.889Z"
   },
   {
    "duration": 154,
    "start_time": "2023-08-18T14:54:21.397Z"
   },
   {
    "duration": 106,
    "start_time": "2023-08-18T14:54:21.553Z"
   },
   {
    "duration": 88,
    "start_time": "2023-08-18T14:59:04.644Z"
   },
   {
    "duration": 121,
    "start_time": "2023-08-18T15:00:52.497Z"
   },
   {
    "duration": 121,
    "start_time": "2023-08-18T15:02:33.349Z"
   },
   {
    "duration": 121,
    "start_time": "2023-08-18T15:02:57.356Z"
   },
   {
    "duration": 104,
    "start_time": "2023-08-18T15:06:49.989Z"
   },
   {
    "duration": 1132,
    "start_time": "2023-08-18T15:07:01.332Z"
   },
   {
    "duration": 738,
    "start_time": "2023-08-18T15:07:02.466Z"
   },
   {
    "duration": 89,
    "start_time": "2023-08-18T15:07:03.205Z"
   },
   {
    "duration": 74,
    "start_time": "2023-08-18T15:07:03.296Z"
   },
   {
    "duration": 46,
    "start_time": "2023-08-18T15:07:03.372Z"
   },
   {
    "duration": 44,
    "start_time": "2023-08-18T15:07:03.420Z"
   },
   {
    "duration": 158,
    "start_time": "2023-08-18T15:07:03.466Z"
   },
   {
    "duration": 22,
    "start_time": "2023-08-18T15:07:03.626Z"
   },
   {
    "duration": 548,
    "start_time": "2023-08-18T15:07:03.650Z"
   },
   {
    "duration": 147,
    "start_time": "2023-08-18T15:07:04.200Z"
   },
   {
    "duration": 67,
    "start_time": "2023-08-18T15:07:04.348Z"
   },
   {
    "duration": 173,
    "start_time": "2023-08-18T15:07:04.416Z"
   },
   {
    "duration": 140,
    "start_time": "2023-08-18T15:07:04.590Z"
   },
   {
    "duration": 1520,
    "start_time": "2023-08-18T15:10:58.841Z"
   },
   {
    "duration": 1062,
    "start_time": "2023-08-18T15:11:10.039Z"
   },
   {
    "duration": 576,
    "start_time": "2023-08-18T15:11:11.103Z"
   },
   {
    "duration": 77,
    "start_time": "2023-08-18T15:11:11.680Z"
   },
   {
    "duration": 84,
    "start_time": "2023-08-18T15:11:11.759Z"
   },
   {
    "duration": 33,
    "start_time": "2023-08-18T15:11:11.845Z"
   },
   {
    "duration": 52,
    "start_time": "2023-08-18T15:11:11.887Z"
   },
   {
    "duration": 154,
    "start_time": "2023-08-18T15:11:11.941Z"
   },
   {
    "duration": 21,
    "start_time": "2023-08-18T15:11:12.097Z"
   },
   {
    "duration": 527,
    "start_time": "2023-08-18T15:11:12.120Z"
   },
   {
    "duration": 152,
    "start_time": "2023-08-18T15:11:12.649Z"
   },
   {
    "duration": 59,
    "start_time": "2023-08-18T15:11:12.803Z"
   },
   {
    "duration": 136,
    "start_time": "2023-08-18T15:11:12.864Z"
   },
   {
    "duration": 1325,
    "start_time": "2023-08-18T15:11:13.001Z"
   },
   {
    "duration": 14,
    "start_time": "2023-08-18T15:23:42.983Z"
   },
   {
    "duration": 13,
    "start_time": "2023-08-18T15:26:51.876Z"
   },
   {
    "duration": 1033,
    "start_time": "2023-08-18T15:27:02.212Z"
   },
   {
    "duration": 627,
    "start_time": "2023-08-18T15:27:03.247Z"
   },
   {
    "duration": 78,
    "start_time": "2023-08-18T15:27:03.876Z"
   },
   {
    "duration": 74,
    "start_time": "2023-08-18T15:27:03.956Z"
   },
   {
    "duration": 95,
    "start_time": "2023-08-18T15:27:04.031Z"
   },
   {
    "duration": 197,
    "start_time": "2023-08-18T15:27:04.127Z"
   },
   {
    "duration": 328,
    "start_time": "2023-08-18T15:27:04.326Z"
   },
   {
    "duration": 23,
    "start_time": "2023-08-18T15:27:04.655Z"
   },
   {
    "duration": 500,
    "start_time": "2023-08-18T15:27:04.680Z"
   },
   {
    "duration": 163,
    "start_time": "2023-08-18T15:27:05.187Z"
   },
   {
    "duration": 75,
    "start_time": "2023-08-18T15:27:05.351Z"
   },
   {
    "duration": 140,
    "start_time": "2023-08-18T15:27:05.428Z"
   },
   {
    "duration": 22,
    "start_time": "2023-08-18T15:27:05.570Z"
   },
   {
    "duration": 150,
    "start_time": "2023-08-18T15:27:05.594Z"
   },
   {
    "duration": 11,
    "start_time": "2023-08-18T15:30:44.134Z"
   },
   {
    "duration": 11,
    "start_time": "2023-08-18T15:30:58.272Z"
   },
   {
    "duration": 1041,
    "start_time": "2023-08-18T15:31:03.218Z"
   },
   {
    "duration": 511,
    "start_time": "2023-08-18T15:31:04.261Z"
   },
   {
    "duration": 79,
    "start_time": "2023-08-18T15:31:04.774Z"
   },
   {
    "duration": 98,
    "start_time": "2023-08-18T15:31:04.856Z"
   },
   {
    "duration": 36,
    "start_time": "2023-08-18T15:31:04.956Z"
   },
   {
    "duration": 105,
    "start_time": "2023-08-18T15:31:04.995Z"
   },
   {
    "duration": 167,
    "start_time": "2023-08-18T15:31:05.102Z"
   },
   {
    "duration": 28,
    "start_time": "2023-08-18T15:31:05.271Z"
   },
   {
    "duration": 521,
    "start_time": "2023-08-18T15:31:05.301Z"
   },
   {
    "duration": 153,
    "start_time": "2023-08-18T15:31:05.825Z"
   },
   {
    "duration": 64,
    "start_time": "2023-08-18T15:31:05.980Z"
   },
   {
    "duration": 194,
    "start_time": "2023-08-18T15:31:06.046Z"
   },
   {
    "duration": 24,
    "start_time": "2023-08-18T15:31:06.242Z"
   },
   {
    "duration": 120,
    "start_time": "2023-08-18T15:31:06.268Z"
   },
   {
    "duration": 56,
    "start_time": "2023-08-18T15:35:34.456Z"
   },
   {
    "duration": 1137,
    "start_time": "2023-08-18T15:35:43.392Z"
   },
   {
    "duration": 943,
    "start_time": "2023-08-18T15:35:44.531Z"
   },
   {
    "duration": 82,
    "start_time": "2023-08-18T15:35:45.476Z"
   },
   {
    "duration": 81,
    "start_time": "2023-08-18T15:35:45.559Z"
   },
   {
    "duration": 32,
    "start_time": "2023-08-18T15:35:45.642Z"
   },
   {
    "duration": 48,
    "start_time": "2023-08-18T15:35:45.675Z"
   },
   {
    "duration": 161,
    "start_time": "2023-08-18T15:35:45.724Z"
   },
   {
    "duration": 22,
    "start_time": "2023-08-18T15:35:45.887Z"
   },
   {
    "duration": 549,
    "start_time": "2023-08-18T15:35:45.911Z"
   },
   {
    "duration": 165,
    "start_time": "2023-08-18T15:35:46.462Z"
   },
   {
    "duration": 74,
    "start_time": "2023-08-18T15:35:46.629Z"
   },
   {
    "duration": 142,
    "start_time": "2023-08-18T15:35:46.705Z"
   },
   {
    "duration": 25,
    "start_time": "2023-08-18T15:35:46.848Z"
   },
   {
    "duration": 163,
    "start_time": "2023-08-18T15:35:46.874Z"
   },
   {
    "duration": 405,
    "start_time": "2023-08-18T15:37:31.790Z"
   },
   {
    "duration": 43,
    "start_time": "2023-08-18T15:44:50.003Z"
   },
   {
    "duration": 52,
    "start_time": "2023-08-18T15:45:44.204Z"
   },
   {
    "duration": 40,
    "start_time": "2023-08-18T15:48:13.411Z"
   },
   {
    "duration": 1111,
    "start_time": "2023-08-18T15:48:25.032Z"
   },
   {
    "duration": 970,
    "start_time": "2023-08-18T15:48:26.145Z"
   },
   {
    "duration": 81,
    "start_time": "2023-08-18T15:48:27.117Z"
   },
   {
    "duration": 86,
    "start_time": "2023-08-18T15:48:27.201Z"
   },
   {
    "duration": 38,
    "start_time": "2023-08-18T15:48:27.289Z"
   },
   {
    "duration": 76,
    "start_time": "2023-08-18T15:48:27.329Z"
   },
   {
    "duration": 169,
    "start_time": "2023-08-18T15:48:27.408Z"
   },
   {
    "duration": 35,
    "start_time": "2023-08-18T15:48:27.579Z"
   },
   {
    "duration": 545,
    "start_time": "2023-08-18T15:48:27.615Z"
   },
   {
    "duration": 168,
    "start_time": "2023-08-18T15:48:28.163Z"
   },
   {
    "duration": 68,
    "start_time": "2023-08-18T15:48:28.333Z"
   },
   {
    "duration": 139,
    "start_time": "2023-08-18T15:48:28.403Z"
   },
   {
    "duration": 22,
    "start_time": "2023-08-18T15:48:28.544Z"
   },
   {
    "duration": 55,
    "start_time": "2023-08-18T15:48:28.567Z"
   },
   {
    "duration": 36,
    "start_time": "2023-08-18T15:52:10.829Z"
   },
   {
    "duration": 1294,
    "start_time": "2023-08-19T13:36:43.646Z"
   },
   {
    "duration": 1219,
    "start_time": "2023-08-19T13:36:44.942Z"
   },
   {
    "duration": 82,
    "start_time": "2023-08-19T13:36:46.163Z"
   },
   {
    "duration": 89,
    "start_time": "2023-08-19T13:36:46.247Z"
   },
   {
    "duration": 47,
    "start_time": "2023-08-19T13:36:46.339Z"
   },
   {
    "duration": 44,
    "start_time": "2023-08-19T13:36:46.388Z"
   },
   {
    "duration": 184,
    "start_time": "2023-08-19T13:36:46.434Z"
   },
   {
    "duration": 23,
    "start_time": "2023-08-19T13:36:46.620Z"
   },
   {
    "duration": 564,
    "start_time": "2023-08-19T13:36:46.645Z"
   },
   {
    "duration": 170,
    "start_time": "2023-08-19T13:36:47.211Z"
   },
   {
    "duration": 60,
    "start_time": "2023-08-19T13:36:47.383Z"
   },
   {
    "duration": 157,
    "start_time": "2023-08-19T13:36:47.445Z"
   },
   {
    "duration": 25,
    "start_time": "2023-08-19T13:36:47.604Z"
   },
   {
    "duration": 39,
    "start_time": "2023-08-19T13:36:47.631Z"
   },
   {
    "duration": 34,
    "start_time": "2023-08-19T13:36:47.672Z"
   },
   {
    "duration": 23,
    "start_time": "2023-08-19T13:37:16.725Z"
   },
   {
    "duration": 13,
    "start_time": "2023-08-19T13:37:24.749Z"
   },
   {
    "duration": 16,
    "start_time": "2023-08-19T13:37:27.641Z"
   },
   {
    "duration": 48,
    "start_time": "2023-08-19T15:01:11.948Z"
   },
   {
    "duration": 1277,
    "start_time": "2023-08-19T15:02:25.127Z"
   },
   {
    "duration": 522,
    "start_time": "2023-08-19T15:02:26.406Z"
   },
   {
    "duration": 75,
    "start_time": "2023-08-19T15:02:26.930Z"
   },
   {
    "duration": 75,
    "start_time": "2023-08-19T15:02:27.007Z"
   },
   {
    "duration": 33,
    "start_time": "2023-08-19T15:02:27.084Z"
   },
   {
    "duration": 52,
    "start_time": "2023-08-19T15:02:27.119Z"
   },
   {
    "duration": 158,
    "start_time": "2023-08-19T15:02:27.172Z"
   },
   {
    "duration": 31,
    "start_time": "2023-08-19T15:02:27.331Z"
   },
   {
    "duration": 574,
    "start_time": "2023-08-19T15:02:27.364Z"
   },
   {
    "duration": 142,
    "start_time": "2023-08-19T15:02:27.940Z"
   },
   {
    "duration": 53,
    "start_time": "2023-08-19T15:02:28.083Z"
   },
   {
    "duration": 51,
    "start_time": "2023-08-19T15:02:28.138Z"
   },
   {
    "duration": 162,
    "start_time": "2023-08-19T15:02:28.191Z"
   },
   {
    "duration": 15,
    "start_time": "2023-08-19T15:02:28.355Z"
   },
   {
    "duration": 17,
    "start_time": "2023-08-19T15:02:28.372Z"
   },
   {
    "duration": 31,
    "start_time": "2023-08-19T15:02:28.391Z"
   },
   {
    "duration": 1403,
    "start_time": "2023-08-19T15:05:53.241Z"
   },
   {
    "duration": 139,
    "start_time": "2023-08-19T15:23:52.336Z"
   },
   {
    "duration": 62,
    "start_time": "2023-08-19T15:24:22.786Z"
   },
   {
    "duration": 3506,
    "start_time": "2023-08-19T15:25:00.995Z"
   },
   {
    "duration": 104,
    "start_time": "2023-08-19T15:29:40.040Z"
   },
   {
    "duration": 32,
    "start_time": "2023-08-19T15:30:14.768Z"
   },
   {
    "duration": 4,
    "start_time": "2023-08-19T15:31:20.224Z"
   },
   {
    "duration": 11,
    "start_time": "2023-08-19T15:31:56.212Z"
   },
   {
    "duration": 78,
    "start_time": "2023-08-19T15:40:53.318Z"
   },
   {
    "duration": 47,
    "start_time": "2023-08-19T15:41:30.220Z"
   },
   {
    "duration": 13,
    "start_time": "2023-08-19T15:56:11.687Z"
   },
   {
    "duration": 126,
    "start_time": "2023-08-19T15:59:03.729Z"
   },
   {
    "duration": 12,
    "start_time": "2023-08-19T16:10:53.133Z"
   },
   {
    "duration": 116,
    "start_time": "2023-08-19T16:22:22.652Z"
   },
   {
    "duration": 73,
    "start_time": "2023-08-19T16:54:10.353Z"
   },
   {
    "duration": 47,
    "start_time": "2023-08-19T16:54:54.413Z"
   },
   {
    "duration": 41,
    "start_time": "2023-08-19T16:55:13.497Z"
   },
   {
    "duration": 13,
    "start_time": "2023-08-19T16:55:28.869Z"
   },
   {
    "duration": 11,
    "start_time": "2023-08-19T16:55:37.249Z"
   },
   {
    "duration": 60,
    "start_time": "2023-08-20T12:50:11.117Z"
   },
   {
    "duration": 1335,
    "start_time": "2023-08-20T12:50:38.852Z"
   },
   {
    "duration": 784,
    "start_time": "2023-08-20T12:50:40.189Z"
   },
   {
    "duration": 96,
    "start_time": "2023-08-20T12:50:40.976Z"
   },
   {
    "duration": 93,
    "start_time": "2023-08-20T12:50:41.074Z"
   },
   {
    "duration": 36,
    "start_time": "2023-08-20T12:50:41.170Z"
   },
   {
    "duration": 62,
    "start_time": "2023-08-20T12:50:41.208Z"
   },
   {
    "duration": 172,
    "start_time": "2023-08-20T12:50:41.272Z"
   },
   {
    "duration": 25,
    "start_time": "2023-08-20T12:50:41.446Z"
   },
   {
    "duration": 581,
    "start_time": "2023-08-20T12:50:41.473Z"
   },
   {
    "duration": 182,
    "start_time": "2023-08-20T12:50:42.056Z"
   },
   {
    "duration": 64,
    "start_time": "2023-08-20T12:50:42.240Z"
   },
   {
    "duration": 86,
    "start_time": "2023-08-20T12:50:42.306Z"
   },
   {
    "duration": 48,
    "start_time": "2023-08-20T12:50:42.393Z"
   },
   {
    "duration": 144,
    "start_time": "2023-08-20T12:50:42.458Z"
   },
   {
    "duration": 15,
    "start_time": "2023-08-20T12:50:42.603Z"
   },
   {
    "duration": 42,
    "start_time": "2023-08-20T12:50:42.620Z"
   },
   {
    "duration": 12,
    "start_time": "2023-08-20T12:50:42.664Z"
   },
   {
    "duration": 46,
    "start_time": "2023-08-20T12:50:42.678Z"
   }
  ],
  "kernelspec": {
   "display_name": "Python 3 (ipykernel)",
   "language": "python",
   "name": "python3"
  },
  "language_info": {
   "codemirror_mode": {
    "name": "ipython",
    "version": 3
   },
   "file_extension": ".py",
   "mimetype": "text/x-python",
   "name": "python",
   "nbconvert_exporter": "python",
   "pygments_lexer": "ipython3",
   "version": "3.11.3"
  },
  "toc": {
   "base_numbering": 1,
   "nav_menu": {},
   "number_sections": true,
   "sideBar": true,
   "skip_h1_title": true,
   "title_cell": "Table of Contents",
   "title_sidebar": "Contents",
   "toc_cell": false,
   "toc_position": {},
   "toc_section_display": true,
   "toc_window_display": true
  }
 },
 "nbformat": 4,
 "nbformat_minor": 2
}
